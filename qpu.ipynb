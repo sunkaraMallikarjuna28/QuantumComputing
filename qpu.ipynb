{
 "cells": [
  {
   "cell_type": "code",
   "execution_count": 1,
   "metadata": {},
   "outputs": [],
   "source": [
    "# Use Braket SDK Cost Tracking to estimate the cost to run this example\n",
    "from braket.tracking import Tracker\n",
    "\n",
    "t = Tracker().start()"
   ]
  },
  {
   "cell_type": "code",
   "execution_count": 2,
   "metadata": {},
   "outputs": [],
   "source": [
    "# general imports\n",
    "import matplotlib.pyplot as plt\n",
    "\n",
    "# magic word for producing visualizations in notebook\n",
    "%matplotlib inline\n",
    "import string\n",
    "\n",
    "# AWS imports: Import Braket SDK modules\n",
    "from braket.aws import AwsDevice, AwsQuantumTask\n",
    "from braket.circuits import Circuit, Gate, observables\n",
    "from braket.device_schema import DeviceActionType\n",
    "from braket.devices import Devices, LocalSimulator\n",
    "from braket.parametric import FreeParameter"
   ]
  },
  {
   "cell_type": "code",
   "execution_count": 9,
   "metadata": {},
   "outputs": [
    {
     "name": "stdout",
     "output_type": "stream",
     "text": [
      "Gate set supported by SDK:\n",
      " ['CCNot', 'CNot', 'CPhaseShift', 'CPhaseShift00', 'CPhaseShift01', 'CPhaseShift10', 'CSwap', 'CV', 'CY', 'CZ', 'ECR', 'GPhase', 'GPi', 'GPi2', 'H', 'I', 'ISwap', 'MS', 'PRx', 'PSwap', 'PhaseShift', 'PulseGate', 'Rx', 'Ry', 'Rz', 'S', 'Si', 'Swap', 'T', 'Ti', 'U', 'Unitary', 'V', 'Vi', 'X', 'XX', 'XY', 'Y', 'YY', 'Z', 'ZZ']\n",
      "\n",
      "\n",
      "Local Simulator supports all SDK gates\n",
      "Available local simulators:\n",
      "- braket_sv (State Vector)\n",
      "- braket_dm (Density Matrix)\n",
      "- braket_ahs (Analog Hamiltonian)\n"
     ]
    }
   ],
   "source": [
    "import os\n",
    "import string\n",
    "\n",
    "# Set region (still required for local simulators)\n",
    "os.environ['AWS_DEFAULT_REGION'] = 'us-east-1'\n",
    "\n",
    "from braket.circuits import Gate\n",
    "from braket.devices import LocalSimulator\n",
    "\n",
    "# Print SDK gates (this works without AWS credentials)\n",
    "gate_set = [attr for attr in dir(Gate) if attr[0] in string.ascii_uppercase]\n",
    "print(\"Gate set supported by SDK:\\n\", gate_set)\n",
    "print(\"\\n\")\n",
    "\n",
    "# Use Local Simulator (works without AWS credentials)\n",
    "local_sim = LocalSimulator()\n",
    "print(\"Local Simulator supports all SDK gates\")\n",
    "print(\"Available local simulators:\")\n",
    "print(\"- braket_sv (State Vector)\")\n",
    "print(\"- braket_dm (Density Matrix)\")\n",
    "print(\"- braket_ahs (Analog Hamiltonian)\")\n"
   ]
  },
  {
   "cell_type": "code",
   "execution_count": 10,
   "metadata": {},
   "outputs": [
    {
     "name": "stdout",
     "output_type": "stream",
     "text": [
      "Error: An error occurred (UnrecognizedClientException) when calling the GetDevice operation: The security token included in the request is invalid.\n"
     ]
    }
   ],
   "source": [
    "import os\n",
    "\n",
    "# Set AWS credentials as environment variables\n",
    "os.environ['AWS_ACCESS_KEY_ID'] = 'your_access_key_here'\n",
    "os.environ['AWS_SECRET_ACCESS_KEY'] = 'your_secret_key_here'\n",
    "os.environ['AWS_DEFAULT_REGION'] = 'us-east-1'\n",
    "\n",
    "# Then run your device code\n",
    "from braket.aws import AwsDevice\n",
    "from braket.device_schema import DeviceActionType\n",
    "\n",
    "try:\n",
    "    ionq = AwsDevice(\"arn:aws:braket:us-east-1::device/qpu/ionq/Aria-1\")\n",
    "    supported_gates = ionq.properties.action[DeviceActionType.OPENQASM].supportedOperations\n",
    "    print(\"IonQ Aria-1 supported gates:\", supported_gates)\n",
    "except Exception as e:\n",
    "    print(f\"Error: {e}\")\n"
   ]
  },
  {
   "cell_type": "code",
   "execution_count": 11,
   "metadata": {},
   "outputs": [
    {
     "ename": "ClientError",
     "evalue": "An error occurred (UnrecognizedClientException) when calling the GetDevice operation: The security token included in the request is invalid.",
     "output_type": "error",
     "traceback": [
      "\u001b[31m---------------------------------------------------------------------------\u001b[39m",
      "\u001b[31mClientError\u001b[39m                               Traceback (most recent call last)",
      "    \u001b[31m[... skipping hidden 1 frame]\u001b[39m\n",
      "\u001b[36mCell\u001b[39m\u001b[36m \u001b[39m\u001b[32mIn[11]\u001b[39m\u001b[32m, line 4\u001b[39m\n\u001b[32m      2\u001b[39m \u001b[38;5;28;01mfrom\u001b[39;00m\u001b[38;5;250m \u001b[39m\u001b[34;01mbraket\u001b[39;00m\u001b[34;01m.\u001b[39;00m\u001b[34;01maws\u001b[39;00m\u001b[38;5;250m \u001b[39m\u001b[38;5;28;01mimport\u001b[39;00m AwsDevice\n\u001b[32m----> \u001b[39m\u001b[32m4\u001b[39m device = \u001b[43mAwsDevice\u001b[49m\u001b[43m(\u001b[49m\u001b[33;43m\"\u001b[39;49m\u001b[33;43marn:aws:braket:us-east-1::device/qpu/ionq/Aria-1\u001b[39;49m\u001b[33;43m\"\u001b[39;49m\u001b[43m)\u001b[49m\n\u001b[32m      5\u001b[39m device_operations = device.properties.dict()[\u001b[33m'\u001b[39m\u001b[33maction\u001b[39m\u001b[33m'\u001b[39m][\u001b[33m'\u001b[39m\u001b[33mbraket.ir.openqasm.program\u001b[39m\u001b[33m'\u001b[39m][\u001b[33m'\u001b[39m\u001b[33msupportedOperations\u001b[39m\u001b[33m'\u001b[39m]\n",
      "\u001b[36mFile \u001b[39m\u001b[32md:\\quantum\\qpi\\Programs\\quantum_amazon_bracket_env\\Lib\\site-packages\\braket\\aws\\aws_device.py:115\u001b[39m, in \u001b[36mAwsDevice.__init__\u001b[39m\u001b[34m(self, arn, aws_session, noise_model)\u001b[39m\n\u001b[32m    114\u001b[39m \u001b[38;5;28mself\u001b[39m._type = \u001b[38;5;28;01mNone\u001b[39;00m\n\u001b[32m--> \u001b[39m\u001b[32m115\u001b[39m \u001b[38;5;28mself\u001b[39m._aws_session = \u001b[38;5;28;43mself\u001b[39;49m\u001b[43m.\u001b[49m\u001b[43m_get_session_and_initialize\u001b[49m\u001b[43m(\u001b[49m\u001b[43maws_session\u001b[49m\u001b[43m \u001b[49m\u001b[38;5;129;43;01mor\u001b[39;49;00m\u001b[43m \u001b[49m\u001b[43mAwsSession\u001b[49m\u001b[43m(\u001b[49m\u001b[43m)\u001b[49m\u001b[43m)\u001b[49m\n\u001b[32m    116\u001b[39m \u001b[38;5;28mself\u001b[39m._ports = \u001b[38;5;28;01mNone\u001b[39;00m\n",
      "\u001b[36mFile \u001b[39m\u001b[32md:\\quantum\\qpi\\Programs\\quantum_amazon_bracket_env\\Lib\\site-packages\\braket\\aws\\aws_device.py:331\u001b[39m, in \u001b[36mAwsDevice._get_session_and_initialize\u001b[39m\u001b[34m(self, session)\u001b[39m\n\u001b[32m    329\u001b[39m device_region = AwsDevice.get_device_region(\u001b[38;5;28mself\u001b[39m._arn)\n\u001b[32m    330\u001b[39m \u001b[38;5;28;01mreturn\u001b[39;00m (\n\u001b[32m--> \u001b[39m\u001b[32m331\u001b[39m     \u001b[38;5;28;43mself\u001b[39;49m\u001b[43m.\u001b[49m\u001b[43m_get_regional_device_session\u001b[49m\u001b[43m(\u001b[49m\u001b[43msession\u001b[49m\u001b[43m)\u001b[49m\n\u001b[32m    332\u001b[39m     \u001b[38;5;28;01mif\u001b[39;00m device_region\n\u001b[32m    333\u001b[39m     \u001b[38;5;28;01melse\u001b[39;00m \u001b[38;5;28mself\u001b[39m._get_non_regional_device_session(session)\n\u001b[32m    334\u001b[39m )\n",
      "\u001b[36mFile \u001b[39m\u001b[32md:\\quantum\\qpi\\Programs\\quantum_amazon_bracket_env\\Lib\\site-packages\\braket\\aws\\aws_device.py:346\u001b[39m, in \u001b[36mAwsDevice._get_regional_device_session\u001b[39m\u001b[34m(self, session)\u001b[39m\n\u001b[32m    345\u001b[39m \u001b[38;5;28;01mexcept\u001b[39;00m ClientError \u001b[38;5;28;01mas\u001b[39;00m e:\n\u001b[32m--> \u001b[39m\u001b[32m346\u001b[39m     \u001b[38;5;28;01mraise\u001b[39;00m (\n\u001b[32m    347\u001b[39m         \u001b[38;5;167;01mValueError\u001b[39;00m(\u001b[33mf\u001b[39m\u001b[33m\"\u001b[39m\u001b[33m'\u001b[39m\u001b[38;5;132;01m{\u001b[39;00m\u001b[38;5;28mself\u001b[39m._arn\u001b[38;5;132;01m}\u001b[39;00m\u001b[33m'\u001b[39m\u001b[33m not found\u001b[39m\u001b[33m\"\u001b[39m)\n\u001b[32m    348\u001b[39m         \u001b[38;5;28;01mif\u001b[39;00m e.response[\u001b[33m\"\u001b[39m\u001b[33mError\u001b[39m\u001b[33m\"\u001b[39m][\u001b[33m\"\u001b[39m\u001b[33mCode\u001b[39m\u001b[33m\"\u001b[39m] == \u001b[33m\"\u001b[39m\u001b[33mResourceNotFoundException\u001b[39m\u001b[33m\"\u001b[39m\n\u001b[32m    349\u001b[39m         \u001b[38;5;28;01melse\u001b[39;00m e\n\u001b[32m    350\u001b[39m     ) \u001b[38;5;28;01mfrom\u001b[39;00m\u001b[38;5;250m \u001b[39m\u001b[34;01me\u001b[39;00m\n\u001b[32m    351\u001b[39m \u001b[38;5;28;01melse\u001b[39;00m:\n",
      "\u001b[36mFile \u001b[39m\u001b[32md:\\quantum\\qpi\\Programs\\quantum_amazon_bracket_env\\Lib\\site-packages\\braket\\aws\\aws_device.py:344\u001b[39m, in \u001b[36mAwsDevice._get_regional_device_session\u001b[39m\u001b[34m(self, session)\u001b[39m\n\u001b[32m    343\u001b[39m \u001b[38;5;28;01mtry\u001b[39;00m:\n\u001b[32m--> \u001b[39m\u001b[32m344\u001b[39m     \u001b[38;5;28;43mself\u001b[39;49m\u001b[43m.\u001b[49m\u001b[43m_populate_properties\u001b[49m\u001b[43m(\u001b[49m\u001b[43mregion_session\u001b[49m\u001b[43m)\u001b[49m\n\u001b[32m    345\u001b[39m \u001b[38;5;28;01mexcept\u001b[39;00m ClientError \u001b[38;5;28;01mas\u001b[39;00m e:\n",
      "\u001b[36mFile \u001b[39m\u001b[32md:\\quantum\\qpi\\Programs\\quantum_amazon_bracket_env\\Lib\\site-packages\\braket\\aws\\aws_device.py:378\u001b[39m, in \u001b[36mAwsDevice._populate_properties\u001b[39m\u001b[34m(self, session)\u001b[39m\n\u001b[32m    377\u001b[39m \u001b[38;5;28;01mdef\u001b[39;00m\u001b[38;5;250m \u001b[39m\u001b[34m_populate_properties\u001b[39m(\u001b[38;5;28mself\u001b[39m, session: AwsSession) -> \u001b[38;5;28;01mNone\u001b[39;00m:\n\u001b[32m--> \u001b[39m\u001b[32m378\u001b[39m     metadata = \u001b[43msession\u001b[49m\u001b[43m.\u001b[49m\u001b[43mget_device\u001b[49m\u001b[43m(\u001b[49m\u001b[38;5;28;43mself\u001b[39;49m\u001b[43m.\u001b[49m\u001b[43m_arn\u001b[49m\u001b[43m)\u001b[49m\n\u001b[32m    379\u001b[39m     \u001b[38;5;28mself\u001b[39m._name = metadata.get(\u001b[33m\"\u001b[39m\u001b[33mdeviceName\u001b[39m\u001b[33m\"\u001b[39m)\n",
      "\u001b[36mFile \u001b[39m\u001b[32md:\\quantum\\qpi\\Programs\\quantum_amazon_bracket_env\\Lib\\site-packages\\braket\\aws\\aws_session.py:637\u001b[39m, in \u001b[36mAwsSession.get_device\u001b[39m\u001b[34m(self, arn)\u001b[39m\n\u001b[32m    629\u001b[39m \u001b[38;5;250m\u001b[39m\u001b[33;03m\"\"\"Calls the Amazon Braket `get_device` API to retrieve device metadata.\u001b[39;00m\n\u001b[32m    630\u001b[39m \n\u001b[32m    631\u001b[39m \u001b[33;03mArgs:\u001b[39;00m\n\u001b[32m   (...)\u001b[39m\u001b[32m    635\u001b[39m \u001b[33;03m    dict[str, Any]: The response from the Amazon Braket `GetDevice` operation.\u001b[39;00m\n\u001b[32m    636\u001b[39m \u001b[33;03m\"\"\"\u001b[39;00m\n\u001b[32m--> \u001b[39m\u001b[32m637\u001b[39m \u001b[38;5;28;01mreturn\u001b[39;00m \u001b[38;5;28;43mself\u001b[39;49m\u001b[43m.\u001b[49m\u001b[43mbraket_client\u001b[49m\u001b[43m.\u001b[49m\u001b[43mget_device\u001b[49m\u001b[43m(\u001b[49m\u001b[43mdeviceArn\u001b[49m\u001b[43m=\u001b[49m\u001b[43marn\u001b[49m\u001b[43m)\u001b[49m\n",
      "\u001b[36mFile \u001b[39m\u001b[32md:\\quantum\\qpi\\Programs\\quantum_amazon_bracket_env\\Lib\\site-packages\\botocore\\client.py:598\u001b[39m, in \u001b[36mClientCreator._create_api_method.<locals>._api_call\u001b[39m\u001b[34m(self, *args, **kwargs)\u001b[39m\n\u001b[32m    597\u001b[39m \u001b[38;5;66;03m# The \"self\" in this scope is referring to the BaseClient.\u001b[39;00m\n\u001b[32m--> \u001b[39m\u001b[32m598\u001b[39m \u001b[38;5;28;01mreturn\u001b[39;00m \u001b[38;5;28;43mself\u001b[39;49m\u001b[43m.\u001b[49m\u001b[43m_make_api_call\u001b[49m\u001b[43m(\u001b[49m\u001b[43moperation_name\u001b[49m\u001b[43m,\u001b[49m\u001b[43m \u001b[49m\u001b[43mkwargs\u001b[49m\u001b[43m)\u001b[49m\n",
      "\u001b[36mFile \u001b[39m\u001b[32md:\\quantum\\qpi\\Programs\\quantum_amazon_bracket_env\\Lib\\site-packages\\botocore\\context.py:123\u001b[39m, in \u001b[36mwith_current_context.<locals>.decorator.<locals>.wrapper\u001b[39m\u001b[34m(*args, **kwargs)\u001b[39m\n\u001b[32m    122\u001b[39m     hook()\n\u001b[32m--> \u001b[39m\u001b[32m123\u001b[39m \u001b[38;5;28;01mreturn\u001b[39;00m \u001b[43mfunc\u001b[49m\u001b[43m(\u001b[49m\u001b[43m*\u001b[49m\u001b[43margs\u001b[49m\u001b[43m,\u001b[49m\u001b[43m \u001b[49m\u001b[43m*\u001b[49m\u001b[43m*\u001b[49m\u001b[43mkwargs\u001b[49m\u001b[43m)\u001b[49m\n",
      "\u001b[36mFile \u001b[39m\u001b[32md:\\quantum\\qpi\\Programs\\quantum_amazon_bracket_env\\Lib\\site-packages\\botocore\\client.py:1061\u001b[39m, in \u001b[36mBaseClient._make_api_call\u001b[39m\u001b[34m(self, operation_name, api_params)\u001b[39m\n\u001b[32m   1060\u001b[39m     error_class = \u001b[38;5;28mself\u001b[39m.exceptions.from_code(error_code)\n\u001b[32m-> \u001b[39m\u001b[32m1061\u001b[39m     \u001b[38;5;28;01mraise\u001b[39;00m error_class(parsed_response, operation_name)\n\u001b[32m   1062\u001b[39m \u001b[38;5;28;01melse\u001b[39;00m:\n",
      "\u001b[31mClientError\u001b[39m: An error occurred (UnrecognizedClientException) when calling the GetDevice operation: The security token included in the request is invalid.",
      "\nThe above exception was the direct cause of the following exception:\n",
      "\u001b[31mClientError\u001b[39m                               Traceback (most recent call last)",
      "    \u001b[31m[... skipping hidden 1 frame]\u001b[39m\n",
      "\u001b[36mCell\u001b[39m\u001b[36m \u001b[39m\u001b[32mIn[11]\u001b[39m\u001b[32m, line 4\u001b[39m\n\u001b[32m      2\u001b[39m \u001b[38;5;28;01mfrom\u001b[39;00m\u001b[38;5;250m \u001b[39m\u001b[34;01mbraket\u001b[39;00m\u001b[34;01m.\u001b[39;00m\u001b[34;01maws\u001b[39;00m\u001b[38;5;250m \u001b[39m\u001b[38;5;28;01mimport\u001b[39;00m AwsDevice\n\u001b[32m----> \u001b[39m\u001b[32m4\u001b[39m device = \u001b[43mAwsDevice\u001b[49m\u001b[43m(\u001b[49m\u001b[33;43m\"\u001b[39;49m\u001b[33;43marn:aws:braket:us-east-1::device/qpu/ionq/Aria-1\u001b[39;49m\u001b[33;43m\"\u001b[39;49m\u001b[43m)\u001b[49m\n\u001b[32m      5\u001b[39m device_operations = device.properties.dict()[\u001b[33m'\u001b[39m\u001b[33maction\u001b[39m\u001b[33m'\u001b[39m][\u001b[33m'\u001b[39m\u001b[33mbraket.ir.openqasm.program\u001b[39m\u001b[33m'\u001b[39m][\u001b[33m'\u001b[39m\u001b[33msupportedOperations\u001b[39m\u001b[33m'\u001b[39m]\n",
      "\u001b[36mFile \u001b[39m\u001b[32md:\\quantum\\qpi\\Programs\\quantum_amazon_bracket_env\\Lib\\site-packages\\braket\\aws\\aws_device.py:115\u001b[39m, in \u001b[36mAwsDevice.__init__\u001b[39m\u001b[34m(self, arn, aws_session, noise_model)\u001b[39m\n\u001b[32m    114\u001b[39m \u001b[38;5;28mself\u001b[39m._type = \u001b[38;5;28;01mNone\u001b[39;00m\n\u001b[32m--> \u001b[39m\u001b[32m115\u001b[39m \u001b[38;5;28mself\u001b[39m._aws_session = \u001b[38;5;28;43mself\u001b[39;49m\u001b[43m.\u001b[49m\u001b[43m_get_session_and_initialize\u001b[49m\u001b[43m(\u001b[49m\u001b[43maws_session\u001b[49m\u001b[43m \u001b[49m\u001b[38;5;129;43;01mor\u001b[39;49;00m\u001b[43m \u001b[49m\u001b[43mAwsSession\u001b[49m\u001b[43m(\u001b[49m\u001b[43m)\u001b[49m\u001b[43m)\u001b[49m\n\u001b[32m    116\u001b[39m \u001b[38;5;28mself\u001b[39m._ports = \u001b[38;5;28;01mNone\u001b[39;00m\n",
      "\u001b[36mFile \u001b[39m\u001b[32md:\\quantum\\qpi\\Programs\\quantum_amazon_bracket_env\\Lib\\site-packages\\braket\\aws\\aws_device.py:331\u001b[39m, in \u001b[36mAwsDevice._get_session_and_initialize\u001b[39m\u001b[34m(self, session)\u001b[39m\n\u001b[32m    329\u001b[39m device_region = AwsDevice.get_device_region(\u001b[38;5;28mself\u001b[39m._arn)\n\u001b[32m    330\u001b[39m \u001b[38;5;28;01mreturn\u001b[39;00m (\n\u001b[32m--> \u001b[39m\u001b[32m331\u001b[39m     \u001b[38;5;28;43mself\u001b[39;49m\u001b[43m.\u001b[49m\u001b[43m_get_regional_device_session\u001b[49m\u001b[43m(\u001b[49m\u001b[43msession\u001b[49m\u001b[43m)\u001b[49m\n\u001b[32m    332\u001b[39m     \u001b[38;5;28;01mif\u001b[39;00m device_region\n\u001b[32m    333\u001b[39m     \u001b[38;5;28;01melse\u001b[39;00m \u001b[38;5;28mself\u001b[39m._get_non_regional_device_session(session)\n\u001b[32m    334\u001b[39m )\n",
      "\u001b[36mFile \u001b[39m\u001b[32md:\\quantum\\qpi\\Programs\\quantum_amazon_bracket_env\\Lib\\site-packages\\braket\\aws\\aws_device.py:346\u001b[39m, in \u001b[36mAwsDevice._get_regional_device_session\u001b[39m\u001b[34m(self, session)\u001b[39m\n\u001b[32m    345\u001b[39m \u001b[38;5;28;01mexcept\u001b[39;00m ClientError \u001b[38;5;28;01mas\u001b[39;00m e:\n\u001b[32m--> \u001b[39m\u001b[32m346\u001b[39m     \u001b[38;5;28;01mraise\u001b[39;00m (\n\u001b[32m    347\u001b[39m         \u001b[38;5;167;01mValueError\u001b[39;00m(\u001b[33mf\u001b[39m\u001b[33m\"\u001b[39m\u001b[33m'\u001b[39m\u001b[38;5;132;01m{\u001b[39;00m\u001b[38;5;28mself\u001b[39m._arn\u001b[38;5;132;01m}\u001b[39;00m\u001b[33m'\u001b[39m\u001b[33m not found\u001b[39m\u001b[33m\"\u001b[39m)\n\u001b[32m    348\u001b[39m         \u001b[38;5;28;01mif\u001b[39;00m e.response[\u001b[33m\"\u001b[39m\u001b[33mError\u001b[39m\u001b[33m\"\u001b[39m][\u001b[33m\"\u001b[39m\u001b[33mCode\u001b[39m\u001b[33m\"\u001b[39m] == \u001b[33m\"\u001b[39m\u001b[33mResourceNotFoundException\u001b[39m\u001b[33m\"\u001b[39m\n\u001b[32m    349\u001b[39m         \u001b[38;5;28;01melse\u001b[39;00m e\n\u001b[32m    350\u001b[39m     ) \u001b[38;5;28;01mfrom\u001b[39;00m\u001b[38;5;250m \u001b[39m\u001b[34;01me\u001b[39;00m\n\u001b[32m    351\u001b[39m \u001b[38;5;28;01melse\u001b[39;00m:\n",
      "\u001b[36mFile \u001b[39m\u001b[32md:\\quantum\\qpi\\Programs\\quantum_amazon_bracket_env\\Lib\\site-packages\\braket\\aws\\aws_device.py:344\u001b[39m, in \u001b[36mAwsDevice._get_regional_device_session\u001b[39m\u001b[34m(self, session)\u001b[39m\n\u001b[32m    343\u001b[39m \u001b[38;5;28;01mtry\u001b[39;00m:\n\u001b[32m--> \u001b[39m\u001b[32m344\u001b[39m     \u001b[38;5;28;43mself\u001b[39;49m\u001b[43m.\u001b[49m\u001b[43m_populate_properties\u001b[49m\u001b[43m(\u001b[49m\u001b[43mregion_session\u001b[49m\u001b[43m)\u001b[49m\n\u001b[32m    345\u001b[39m \u001b[38;5;28;01mexcept\u001b[39;00m ClientError \u001b[38;5;28;01mas\u001b[39;00m e:\n",
      "\u001b[36mFile \u001b[39m\u001b[32md:\\quantum\\qpi\\Programs\\quantum_amazon_bracket_env\\Lib\\site-packages\\braket\\aws\\aws_device.py:378\u001b[39m, in \u001b[36mAwsDevice._populate_properties\u001b[39m\u001b[34m(self, session)\u001b[39m\n\u001b[32m    377\u001b[39m \u001b[38;5;28;01mdef\u001b[39;00m\u001b[38;5;250m \u001b[39m\u001b[34m_populate_properties\u001b[39m(\u001b[38;5;28mself\u001b[39m, session: AwsSession) -> \u001b[38;5;28;01mNone\u001b[39;00m:\n\u001b[32m--> \u001b[39m\u001b[32m378\u001b[39m     metadata = \u001b[43msession\u001b[49m\u001b[43m.\u001b[49m\u001b[43mget_device\u001b[49m\u001b[43m(\u001b[49m\u001b[38;5;28;43mself\u001b[39;49m\u001b[43m.\u001b[49m\u001b[43m_arn\u001b[49m\u001b[43m)\u001b[49m\n\u001b[32m    379\u001b[39m     \u001b[38;5;28mself\u001b[39m._name = metadata.get(\u001b[33m\"\u001b[39m\u001b[33mdeviceName\u001b[39m\u001b[33m\"\u001b[39m)\n",
      "\u001b[36mFile \u001b[39m\u001b[32md:\\quantum\\qpi\\Programs\\quantum_amazon_bracket_env\\Lib\\site-packages\\braket\\aws\\aws_session.py:637\u001b[39m, in \u001b[36mAwsSession.get_device\u001b[39m\u001b[34m(self, arn)\u001b[39m\n\u001b[32m    629\u001b[39m \u001b[38;5;250m\u001b[39m\u001b[33;03m\"\"\"Calls the Amazon Braket `get_device` API to retrieve device metadata.\u001b[39;00m\n\u001b[32m    630\u001b[39m \n\u001b[32m    631\u001b[39m \u001b[33;03mArgs:\u001b[39;00m\n\u001b[32m   (...)\u001b[39m\u001b[32m    635\u001b[39m \u001b[33;03m    dict[str, Any]: The response from the Amazon Braket `GetDevice` operation.\u001b[39;00m\n\u001b[32m    636\u001b[39m \u001b[33;03m\"\"\"\u001b[39;00m\n\u001b[32m--> \u001b[39m\u001b[32m637\u001b[39m \u001b[38;5;28;01mreturn\u001b[39;00m \u001b[38;5;28;43mself\u001b[39;49m\u001b[43m.\u001b[49m\u001b[43mbraket_client\u001b[49m\u001b[43m.\u001b[49m\u001b[43mget_device\u001b[49m\u001b[43m(\u001b[49m\u001b[43mdeviceArn\u001b[49m\u001b[43m=\u001b[49m\u001b[43marn\u001b[49m\u001b[43m)\u001b[49m\n",
      "\u001b[36mFile \u001b[39m\u001b[32md:\\quantum\\qpi\\Programs\\quantum_amazon_bracket_env\\Lib\\site-packages\\botocore\\client.py:598\u001b[39m, in \u001b[36mClientCreator._create_api_method.<locals>._api_call\u001b[39m\u001b[34m(self, *args, **kwargs)\u001b[39m\n\u001b[32m    597\u001b[39m \u001b[38;5;66;03m# The \"self\" in this scope is referring to the BaseClient.\u001b[39;00m\n\u001b[32m--> \u001b[39m\u001b[32m598\u001b[39m \u001b[38;5;28;01mreturn\u001b[39;00m \u001b[38;5;28;43mself\u001b[39;49m\u001b[43m.\u001b[49m\u001b[43m_make_api_call\u001b[49m\u001b[43m(\u001b[49m\u001b[43moperation_name\u001b[49m\u001b[43m,\u001b[49m\u001b[43m \u001b[49m\u001b[43mkwargs\u001b[49m\u001b[43m)\u001b[49m\n",
      "\u001b[36mFile \u001b[39m\u001b[32md:\\quantum\\qpi\\Programs\\quantum_amazon_bracket_env\\Lib\\site-packages\\botocore\\context.py:123\u001b[39m, in \u001b[36mwith_current_context.<locals>.decorator.<locals>.wrapper\u001b[39m\u001b[34m(*args, **kwargs)\u001b[39m\n\u001b[32m    122\u001b[39m     hook()\n\u001b[32m--> \u001b[39m\u001b[32m123\u001b[39m \u001b[38;5;28;01mreturn\u001b[39;00m \u001b[43mfunc\u001b[49m\u001b[43m(\u001b[49m\u001b[43m*\u001b[49m\u001b[43margs\u001b[49m\u001b[43m,\u001b[49m\u001b[43m \u001b[49m\u001b[43m*\u001b[49m\u001b[43m*\u001b[49m\u001b[43mkwargs\u001b[49m\u001b[43m)\u001b[49m\n",
      "\u001b[36mFile \u001b[39m\u001b[32md:\\quantum\\qpi\\Programs\\quantum_amazon_bracket_env\\Lib\\site-packages\\botocore\\client.py:1061\u001b[39m, in \u001b[36mBaseClient._make_api_call\u001b[39m\u001b[34m(self, operation_name, api_params)\u001b[39m\n\u001b[32m   1060\u001b[39m     error_class = \u001b[38;5;28mself\u001b[39m.exceptions.from_code(error_code)\n\u001b[32m-> \u001b[39m\u001b[32m1061\u001b[39m     \u001b[38;5;28;01mraise\u001b[39;00m error_class(parsed_response, operation_name)\n\u001b[32m   1062\u001b[39m \u001b[38;5;28;01melse\u001b[39;00m:\n",
      "\u001b[31mClientError\u001b[39m: An error occurred (UnrecognizedClientException) when calling the GetDevice operation: The security token included in the request is invalid.",
      "\nThe above exception was the direct cause of the following exception:\n",
      "\u001b[31mClientError\u001b[39m                               Traceback (most recent call last)",
      "\u001b[36mCell\u001b[39m\u001b[36m \u001b[39m\u001b[32mIn[11]\u001b[39m\u001b[32m, line 4\u001b[39m\n\u001b[32m      1\u001b[39m \u001b[38;5;66;03m# Example: Check IonQ Aria-1 supported gates\u001b[39;00m\n\u001b[32m      2\u001b[39m \u001b[38;5;28;01mfrom\u001b[39;00m\u001b[38;5;250m \u001b[39m\u001b[34;01mbraket\u001b[39;00m\u001b[34;01m.\u001b[39;00m\u001b[34;01maws\u001b[39;00m\u001b[38;5;250m \u001b[39m\u001b[38;5;28;01mimport\u001b[39;00m AwsDevice\n\u001b[32m----> \u001b[39m\u001b[32m4\u001b[39m device = \u001b[43mAwsDevice\u001b[49m\u001b[43m(\u001b[49m\u001b[33;43m\"\u001b[39;49m\u001b[33;43marn:aws:braket:us-east-1::device/qpu/ionq/Aria-1\u001b[39;49m\u001b[33;43m\"\u001b[39;49m\u001b[43m)\u001b[49m\n\u001b[32m      5\u001b[39m device_operations = device.properties.dict()[\u001b[33m'\u001b[39m\u001b[33maction\u001b[39m\u001b[33m'\u001b[39m][\u001b[33m'\u001b[39m\u001b[33mbraket.ir.openqasm.program\u001b[39m\u001b[33m'\u001b[39m][\u001b[33m'\u001b[39m\u001b[33msupportedOperations\u001b[39m\u001b[33m'\u001b[39m]\n\u001b[32m      6\u001b[39m \u001b[38;5;28mprint\u001b[39m(\u001b[33m'\u001b[39m\u001b[33mQuantum Gates supported by Aria-1:\u001b[39m\u001b[38;5;130;01m\\n\u001b[39;00m\u001b[33m'\u001b[39m, device_operations)\n",
      "\u001b[36mFile \u001b[39m\u001b[32md:\\quantum\\qpi\\Programs\\quantum_amazon_bracket_env\\Lib\\site-packages\\braket\\aws\\aws_device.py:115\u001b[39m, in \u001b[36mAwsDevice.__init__\u001b[39m\u001b[34m(self, arn, aws_session, noise_model)\u001b[39m\n\u001b[32m    113\u001b[39m \u001b[38;5;28mself\u001b[39m._poll_interval_seconds = \u001b[38;5;28;01mNone\u001b[39;00m\n\u001b[32m    114\u001b[39m \u001b[38;5;28mself\u001b[39m._type = \u001b[38;5;28;01mNone\u001b[39;00m\n\u001b[32m--> \u001b[39m\u001b[32m115\u001b[39m \u001b[38;5;28mself\u001b[39m._aws_session = \u001b[38;5;28;43mself\u001b[39;49m\u001b[43m.\u001b[49m\u001b[43m_get_session_and_initialize\u001b[49m\u001b[43m(\u001b[49m\u001b[43maws_session\u001b[49m\u001b[43m \u001b[49m\u001b[38;5;129;43;01mor\u001b[39;49;00m\u001b[43m \u001b[49m\u001b[43mAwsSession\u001b[49m\u001b[43m(\u001b[49m\u001b[43m)\u001b[49m\u001b[43m)\u001b[49m\n\u001b[32m    116\u001b[39m \u001b[38;5;28mself\u001b[39m._ports = \u001b[38;5;28;01mNone\u001b[39;00m\n\u001b[32m    117\u001b[39m \u001b[38;5;28mself\u001b[39m._frames = \u001b[38;5;28;01mNone\u001b[39;00m\n",
      "\u001b[36mFile \u001b[39m\u001b[32md:\\quantum\\qpi\\Programs\\quantum_amazon_bracket_env\\Lib\\site-packages\\braket\\aws\\aws_device.py:331\u001b[39m, in \u001b[36mAwsDevice._get_session_and_initialize\u001b[39m\u001b[34m(self, session)\u001b[39m\n\u001b[32m    328\u001b[39m \u001b[38;5;28;01mdef\u001b[39;00m\u001b[38;5;250m \u001b[39m\u001b[34m_get_session_and_initialize\u001b[39m(\u001b[38;5;28mself\u001b[39m, session: AwsSession) -> AwsSession:\n\u001b[32m    329\u001b[39m     device_region = AwsDevice.get_device_region(\u001b[38;5;28mself\u001b[39m._arn)\n\u001b[32m    330\u001b[39m     \u001b[38;5;28;01mreturn\u001b[39;00m (\n\u001b[32m--> \u001b[39m\u001b[32m331\u001b[39m         \u001b[38;5;28;43mself\u001b[39;49m\u001b[43m.\u001b[49m\u001b[43m_get_regional_device_session\u001b[49m\u001b[43m(\u001b[49m\u001b[43msession\u001b[49m\u001b[43m)\u001b[49m\n\u001b[32m    332\u001b[39m         \u001b[38;5;28;01mif\u001b[39;00m device_region\n\u001b[32m    333\u001b[39m         \u001b[38;5;28;01melse\u001b[39;00m \u001b[38;5;28mself\u001b[39m._get_non_regional_device_session(session)\n\u001b[32m    334\u001b[39m     )\n",
      "\u001b[36mFile \u001b[39m\u001b[32md:\\quantum\\qpi\\Programs\\quantum_amazon_bracket_env\\Lib\\site-packages\\braket\\aws\\aws_device.py:346\u001b[39m, in \u001b[36mAwsDevice._get_regional_device_session\u001b[39m\u001b[34m(self, session)\u001b[39m\n\u001b[32m    344\u001b[39m     \u001b[38;5;28mself\u001b[39m._populate_properties(region_session)\n\u001b[32m    345\u001b[39m \u001b[38;5;28;01mexcept\u001b[39;00m ClientError \u001b[38;5;28;01mas\u001b[39;00m e:\n\u001b[32m--> \u001b[39m\u001b[32m346\u001b[39m     \u001b[38;5;28;01mraise\u001b[39;00m (\n\u001b[32m    347\u001b[39m         \u001b[38;5;167;01mValueError\u001b[39;00m(\u001b[33mf\u001b[39m\u001b[33m\"\u001b[39m\u001b[33m'\u001b[39m\u001b[38;5;132;01m{\u001b[39;00m\u001b[38;5;28mself\u001b[39m._arn\u001b[38;5;132;01m}\u001b[39;00m\u001b[33m'\u001b[39m\u001b[33m not found\u001b[39m\u001b[33m\"\u001b[39m)\n\u001b[32m    348\u001b[39m         \u001b[38;5;28;01mif\u001b[39;00m e.response[\u001b[33m\"\u001b[39m\u001b[33mError\u001b[39m\u001b[33m\"\u001b[39m][\u001b[33m\"\u001b[39m\u001b[33mCode\u001b[39m\u001b[33m\"\u001b[39m] == \u001b[33m\"\u001b[39m\u001b[33mResourceNotFoundException\u001b[39m\u001b[33m\"\u001b[39m\n\u001b[32m    349\u001b[39m         \u001b[38;5;28;01melse\u001b[39;00m e\n\u001b[32m    350\u001b[39m     ) \u001b[38;5;28;01mfrom\u001b[39;00m\u001b[38;5;250m \u001b[39m\u001b[34;01me\u001b[39;00m\n\u001b[32m    351\u001b[39m \u001b[38;5;28;01melse\u001b[39;00m:\n\u001b[32m    352\u001b[39m     \u001b[38;5;28;01mreturn\u001b[39;00m region_session\n",
      "\u001b[36mFile \u001b[39m\u001b[32md:\\quantum\\qpi\\Programs\\quantum_amazon_bracket_env\\Lib\\site-packages\\braket\\aws\\aws_device.py:344\u001b[39m, in \u001b[36mAwsDevice._get_regional_device_session\u001b[39m\u001b[34m(self, session)\u001b[39m\n\u001b[32m    338\u001b[39m region_session = (\n\u001b[32m    339\u001b[39m     session\n\u001b[32m    340\u001b[39m     \u001b[38;5;28;01mif\u001b[39;00m session.region == device_region\n\u001b[32m    341\u001b[39m     \u001b[38;5;28;01melse\u001b[39;00m AwsSession.copy_session(session, device_region)\n\u001b[32m    342\u001b[39m )\n\u001b[32m    343\u001b[39m \u001b[38;5;28;01mtry\u001b[39;00m:\n\u001b[32m--> \u001b[39m\u001b[32m344\u001b[39m     \u001b[38;5;28;43mself\u001b[39;49m\u001b[43m.\u001b[49m\u001b[43m_populate_properties\u001b[49m\u001b[43m(\u001b[49m\u001b[43mregion_session\u001b[49m\u001b[43m)\u001b[49m\n\u001b[32m    345\u001b[39m \u001b[38;5;28;01mexcept\u001b[39;00m ClientError \u001b[38;5;28;01mas\u001b[39;00m e:\n\u001b[32m    346\u001b[39m     \u001b[38;5;28;01mraise\u001b[39;00m (\n\u001b[32m    347\u001b[39m         \u001b[38;5;167;01mValueError\u001b[39;00m(\u001b[33mf\u001b[39m\u001b[33m\"\u001b[39m\u001b[33m'\u001b[39m\u001b[38;5;132;01m{\u001b[39;00m\u001b[38;5;28mself\u001b[39m._arn\u001b[38;5;132;01m}\u001b[39;00m\u001b[33m'\u001b[39m\u001b[33m not found\u001b[39m\u001b[33m\"\u001b[39m)\n\u001b[32m    348\u001b[39m         \u001b[38;5;28;01mif\u001b[39;00m e.response[\u001b[33m\"\u001b[39m\u001b[33mError\u001b[39m\u001b[33m\"\u001b[39m][\u001b[33m\"\u001b[39m\u001b[33mCode\u001b[39m\u001b[33m\"\u001b[39m] == \u001b[33m\"\u001b[39m\u001b[33mResourceNotFoundException\u001b[39m\u001b[33m\"\u001b[39m\n\u001b[32m    349\u001b[39m         \u001b[38;5;28;01melse\u001b[39;00m e\n\u001b[32m    350\u001b[39m     ) \u001b[38;5;28;01mfrom\u001b[39;00m\u001b[38;5;250m \u001b[39m\u001b[34;01me\u001b[39;00m\n",
      "\u001b[36mFile \u001b[39m\u001b[32md:\\quantum\\qpi\\Programs\\quantum_amazon_bracket_env\\Lib\\site-packages\\braket\\aws\\aws_device.py:378\u001b[39m, in \u001b[36mAwsDevice._populate_properties\u001b[39m\u001b[34m(self, session)\u001b[39m\n\u001b[32m    377\u001b[39m \u001b[38;5;28;01mdef\u001b[39;00m\u001b[38;5;250m \u001b[39m\u001b[34m_populate_properties\u001b[39m(\u001b[38;5;28mself\u001b[39m, session: AwsSession) -> \u001b[38;5;28;01mNone\u001b[39;00m:\n\u001b[32m--> \u001b[39m\u001b[32m378\u001b[39m     metadata = \u001b[43msession\u001b[49m\u001b[43m.\u001b[49m\u001b[43mget_device\u001b[49m\u001b[43m(\u001b[49m\u001b[38;5;28;43mself\u001b[39;49m\u001b[43m.\u001b[49m\u001b[43m_arn\u001b[49m\u001b[43m)\u001b[49m\n\u001b[32m    379\u001b[39m     \u001b[38;5;28mself\u001b[39m._name = metadata.get(\u001b[33m\"\u001b[39m\u001b[33mdeviceName\u001b[39m\u001b[33m\"\u001b[39m)\n\u001b[32m    380\u001b[39m     \u001b[38;5;28mself\u001b[39m._status = metadata.get(\u001b[33m\"\u001b[39m\u001b[33mdeviceStatus\u001b[39m\u001b[33m\"\u001b[39m)\n",
      "\u001b[36mFile \u001b[39m\u001b[32md:\\quantum\\qpi\\Programs\\quantum_amazon_bracket_env\\Lib\\site-packages\\braket\\aws\\aws_session.py:637\u001b[39m, in \u001b[36mAwsSession.get_device\u001b[39m\u001b[34m(self, arn)\u001b[39m\n\u001b[32m    628\u001b[39m \u001b[38;5;28;01mdef\u001b[39;00m\u001b[38;5;250m \u001b[39m\u001b[34mget_device\u001b[39m(\u001b[38;5;28mself\u001b[39m, arn: \u001b[38;5;28mstr\u001b[39m) -> \u001b[38;5;28mdict\u001b[39m[\u001b[38;5;28mstr\u001b[39m, Any]:\n\u001b[32m    629\u001b[39m \u001b[38;5;250m    \u001b[39m\u001b[33;03m\"\"\"Calls the Amazon Braket `get_device` API to retrieve device metadata.\u001b[39;00m\n\u001b[32m    630\u001b[39m \n\u001b[32m    631\u001b[39m \u001b[33;03m    Args:\u001b[39;00m\n\u001b[32m   (...)\u001b[39m\u001b[32m    635\u001b[39m \u001b[33;03m        dict[str, Any]: The response from the Amazon Braket `GetDevice` operation.\u001b[39;00m\n\u001b[32m    636\u001b[39m \u001b[33;03m    \"\"\"\u001b[39;00m\n\u001b[32m--> \u001b[39m\u001b[32m637\u001b[39m     \u001b[38;5;28;01mreturn\u001b[39;00m \u001b[38;5;28;43mself\u001b[39;49m\u001b[43m.\u001b[49m\u001b[43mbraket_client\u001b[49m\u001b[43m.\u001b[49m\u001b[43mget_device\u001b[49m\u001b[43m(\u001b[49m\u001b[43mdeviceArn\u001b[49m\u001b[43m=\u001b[49m\u001b[43marn\u001b[49m\u001b[43m)\u001b[49m\n",
      "\u001b[36mFile \u001b[39m\u001b[32md:\\quantum\\qpi\\Programs\\quantum_amazon_bracket_env\\Lib\\site-packages\\botocore\\client.py:598\u001b[39m, in \u001b[36mClientCreator._create_api_method.<locals>._api_call\u001b[39m\u001b[34m(self, *args, **kwargs)\u001b[39m\n\u001b[32m    594\u001b[39m     \u001b[38;5;28;01mraise\u001b[39;00m \u001b[38;5;167;01mTypeError\u001b[39;00m(\n\u001b[32m    595\u001b[39m         \u001b[33mf\u001b[39m\u001b[33m\"\u001b[39m\u001b[38;5;132;01m{\u001b[39;00mpy_operation_name\u001b[38;5;132;01m}\u001b[39;00m\u001b[33m() only accepts keyword arguments.\u001b[39m\u001b[33m\"\u001b[39m\n\u001b[32m    596\u001b[39m     )\n\u001b[32m    597\u001b[39m \u001b[38;5;66;03m# The \"self\" in this scope is referring to the BaseClient.\u001b[39;00m\n\u001b[32m--> \u001b[39m\u001b[32m598\u001b[39m \u001b[38;5;28;01mreturn\u001b[39;00m \u001b[38;5;28;43mself\u001b[39;49m\u001b[43m.\u001b[49m\u001b[43m_make_api_call\u001b[49m\u001b[43m(\u001b[49m\u001b[43moperation_name\u001b[49m\u001b[43m,\u001b[49m\u001b[43m \u001b[49m\u001b[43mkwargs\u001b[49m\u001b[43m)\u001b[49m\n",
      "\u001b[36mFile \u001b[39m\u001b[32md:\\quantum\\qpi\\Programs\\quantum_amazon_bracket_env\\Lib\\site-packages\\botocore\\context.py:123\u001b[39m, in \u001b[36mwith_current_context.<locals>.decorator.<locals>.wrapper\u001b[39m\u001b[34m(*args, **kwargs)\u001b[39m\n\u001b[32m    121\u001b[39m \u001b[38;5;28;01mif\u001b[39;00m hook:\n\u001b[32m    122\u001b[39m     hook()\n\u001b[32m--> \u001b[39m\u001b[32m123\u001b[39m \u001b[38;5;28;01mreturn\u001b[39;00m \u001b[43mfunc\u001b[49m\u001b[43m(\u001b[49m\u001b[43m*\u001b[49m\u001b[43margs\u001b[49m\u001b[43m,\u001b[49m\u001b[43m \u001b[49m\u001b[43m*\u001b[49m\u001b[43m*\u001b[49m\u001b[43mkwargs\u001b[49m\u001b[43m)\u001b[49m\n",
      "\u001b[36mFile \u001b[39m\u001b[32md:\\quantum\\qpi\\Programs\\quantum_amazon_bracket_env\\Lib\\site-packages\\botocore\\client.py:1061\u001b[39m, in \u001b[36mBaseClient._make_api_call\u001b[39m\u001b[34m(self, operation_name, api_params)\u001b[39m\n\u001b[32m   1057\u001b[39m     error_code = error_info.get(\u001b[33m\"\u001b[39m\u001b[33mQueryErrorCode\u001b[39m\u001b[33m\"\u001b[39m) \u001b[38;5;129;01mor\u001b[39;00m error_info.get(\n\u001b[32m   1058\u001b[39m         \u001b[33m\"\u001b[39m\u001b[33mCode\u001b[39m\u001b[33m\"\u001b[39m\n\u001b[32m   1059\u001b[39m     )\n\u001b[32m   1060\u001b[39m     error_class = \u001b[38;5;28mself\u001b[39m.exceptions.from_code(error_code)\n\u001b[32m-> \u001b[39m\u001b[32m1061\u001b[39m     \u001b[38;5;28;01mraise\u001b[39;00m error_class(parsed_response, operation_name)\n\u001b[32m   1062\u001b[39m \u001b[38;5;28;01melse\u001b[39;00m:\n\u001b[32m   1063\u001b[39m     \u001b[38;5;28;01mreturn\u001b[39;00m parsed_response\n",
      "\u001b[31mClientError\u001b[39m: An error occurred (UnrecognizedClientException) when calling the GetDevice operation: The security token included in the request is invalid."
     ]
    }
   ],
   "source": [
    "# Example: Check IonQ Aria-1 supported gates\n",
    "from braket.aws import AwsDevice\n",
    "\n",
    "device = AwsDevice(\"arn:aws:braket:us-east-1::device/qpu/ionq/Aria-1\")\n",
    "device_operations = device.properties.dict()['action']['braket.ir.openqasm.program']['supportedOperations']\n",
    "print('Quantum Gates supported by Aria-1:\\n', device_operations)\n"
   ]
  },
  {
   "cell_type": "code",
   "execution_count": null,
   "metadata": {},
   "outputs": [],
   "source": []
  }
 ],
 "metadata": {
  "kernelspec": {
   "display_name": "Python 3",
   "language": "python",
   "name": "python3"
  },
  "language_info": {
   "codemirror_mode": {
    "name": "ipython",
    "version": 3
   },
   "file_extension": ".py",
   "mimetype": "text/x-python",
   "name": "python",
   "nbconvert_exporter": "python",
   "pygments_lexer": "ipython3",
   "version": "3.11.13"
  }
 },
 "nbformat": 4,
 "nbformat_minor": 2
}
