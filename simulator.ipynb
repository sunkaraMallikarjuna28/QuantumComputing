{
 "cells": [
  {
   "cell_type": "code",
   "execution_count": 1,
   "metadata": {},
   "outputs": [],
   "source": [
    "# Use Braket SDK Cost Tracking to estimate the cost to run this example\n",
    "from braket.tracking import Tracker\n",
    "\n",
    "t = Tracker().start()"
   ]
  },
  {
   "cell_type": "code",
   "execution_count": 2,
   "metadata": {},
   "outputs": [],
   "source": [
    "# general imports\n",
    "import matplotlib.pyplot as plt\n",
    "\n",
    "# magic word for producing visualizations in notebook\n",
    "%matplotlib inline\n",
    "import numpy as np\n",
    "\n",
    "from braket.aws import AwsDevice\n",
    "\n",
    "# AWS imports: Import Braket SDK modules\n",
    "from braket.circuits import Circuit\n",
    "from braket.circuits.observables import Z\n",
    "from braket.devices import Devices, LocalSimulator"
   ]
  },
  {
   "cell_type": "code",
   "execution_count": 3,
   "metadata": {},
   "outputs": [],
   "source": [
    "# general imports\n",
    "import matplotlib.pyplot as plt\n",
    "\n",
    "# magic word for producing visualizations in notebook\n",
    "%matplotlib inline\n",
    "import numpy as np\n",
    "\n",
    "from braket.aws import AwsDevice\n",
    "\n",
    "# AWS imports: Import Braket SDK modules\n",
    "from braket.circuits import Circuit\n",
    "from braket.circuits.observables import Z\n",
    "from braket.devices import Devices, LocalSimulator"
   ]
  },
  {
   "cell_type": "code",
   "execution_count": 5,
   "metadata": {},
   "outputs": [],
   "source": [
    "# function to build a GHZ state\n",
    "def ghz_circuit(n_qubits):\n",
    "    \"\"\"Function to return a GHZ circuit ansatz\n",
    "    input: number of qubits\n",
    "    \"\"\"\n",
    "    # instantiate circuit object\n",
    "    circuit = Circuit()\n",
    "\n",
    "    # add Hadamard gate on first qubit\n",
    "    circuit.h(0)\n",
    "\n",
    "    # apply series of CNOT gates\n",
    "    for ii in range(n_qubits - 1):\n",
    "        circuit.cnot(control=ii, target=ii + 1)\n",
    "\n",
    "    return circuit"
   ]
  },
  {
   "cell_type": "code",
   "execution_count": 6,
   "metadata": {},
   "outputs": [],
   "source": [
    "# define circuit\n",
    "n_qubits = 10\n",
    "ghz = ghz_circuit(n_qubits)"
   ]
  },
  {
   "cell_type": "code",
   "execution_count": 7,
   "metadata": {},
   "outputs": [
    {
     "name": "stdout",
     "output_type": "stream",
     "text": [
      "T  : │  0  │  1  │  2  │  3  │  4  │  5  │  6  │  7  │  8  │  9  │\n",
      "      ┌───┐                                                       \n",
      "q0 : ─┤ H ├───●───────────────────────────────────────────────────\n",
      "      └───┘   │                                                   \n",
      "            ┌─┴─┐                                                 \n",
      "q1 : ───────┤ X ├───●─────────────────────────────────────────────\n",
      "            └───┘   │                                             \n",
      "                  ┌─┴─┐                                           \n",
      "q2 : ─────────────┤ X ├───●───────────────────────────────────────\n",
      "                  └───┘   │                                       \n",
      "                        ┌─┴─┐                                     \n",
      "q3 : ───────────────────┤ X ├───●─────────────────────────────────\n",
      "                        └───┘   │                                 \n",
      "                              ┌─┴─┐                               \n",
      "q4 : ─────────────────────────┤ X ├───●───────────────────────────\n",
      "                              └───┘   │                           \n",
      "                                    ┌─┴─┐                         \n",
      "q5 : ───────────────────────────────┤ X ├───●─────────────────────\n",
      "                                    └───┘   │                     \n",
      "                                          ┌─┴─┐                   \n",
      "q6 : ─────────────────────────────────────┤ X ├───●───────────────\n",
      "                                          └───┘   │               \n",
      "                                                ┌─┴─┐             \n",
      "q7 : ───────────────────────────────────────────┤ X ├───●─────────\n",
      "                                                └───┘   │         \n",
      "                                                      ┌─┴─┐       \n",
      "q8 : ─────────────────────────────────────────────────┤ X ├───●───\n",
      "                                                      └───┘   │   \n",
      "                                                            ┌─┴─┐ \n",
      "q9 : ───────────────────────────────────────────────────────┤ X ├─\n",
      "                                                            └───┘ \n",
      "T  : │  0  │  1  │  2  │  3  │  4  │  5  │  6  │  7  │  8  │  9  │\n"
     ]
    }
   ],
   "source": [
    "# print circuit\n",
    "print(ghz)"
   ]
  },
  {
   "cell_type": "code",
   "execution_count": 8,
   "metadata": {},
   "outputs": [],
   "source": [
    "# set up device: Local Simulator\n",
    "device = LocalSimulator()"
   ]
  },
  {
   "cell_type": "code",
   "execution_count": 9,
   "metadata": {},
   "outputs": [
    {
     "name": "stdout",
     "output_type": "stream",
     "text": [
      "Counter({'0000000000': 526, '1111111111': 474})\n"
     ]
    }
   ],
   "source": [
    "# run circuit\n",
    "result = device.run(ghz, shots=1000).result()\n",
    "# get measurement shots\n",
    "counts = result.measurement_counts\n",
    "# print counts\n",
    "print(counts)"
   ]
  },
  {
   "cell_type": "code",
   "execution_count": 10,
   "metadata": {},
   "outputs": [
    {
     "data": {
      "text/plain": [
       "Text(0, 0.5, 'counts')"
      ]
     },
     "execution_count": 10,
     "metadata": {},
     "output_type": "execute_result"
    },
    {
     "data": {
      "image/png": "[encoded data removed]",
      "text/plain": [
       "<Figure size 640x480 with 1 Axes>"
      ]
     },
     "metadata": {},
     "output_type": "display_data"
    }
   ],
   "source": [
    "# plot using Counter\n",
    "plt.bar(counts.keys(), counts.values())\n",
    "plt.xlabel(\"bitstrings\")\n",
    "plt.ylabel(\"counts\")"
   ]
  },
  {
   "cell_type": "code",
   "execution_count": null,
   "metadata": {},
   "outputs": [],
   "source": []
  }
 ],
 "metadata": {
  "kernelspec": {
   "display_name": "Python 3",
   "language": "python",
   "name": "python3"
  },
  "language_info": {
   "codemirror_mode": {
    "name": "ipython",
    "version": 3
   },
   "file_extension": ".py",
   "mimetype": "text/x-python",
   "name": "python",
   "nbconvert_exporter": "python",
   "pygments_lexer": "ipython3",
   "version": "3.11.13"
  }
 },
 "nbformat": 4,
 "nbformat_minor": 2
}
